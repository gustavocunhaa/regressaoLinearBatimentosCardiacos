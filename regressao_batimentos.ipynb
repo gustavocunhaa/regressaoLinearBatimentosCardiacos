{
 "cells": [
  {
   "cell_type": "code",
   "execution_count": 1,
   "id": "838cdf1b",
   "metadata": {},
   "outputs": [],
   "source": [
    "import pandas as pd\n",
    "import seaborn as sns"
   ]
  },
  {
   "cell_type": "code",
   "execution_count": 2,
   "id": "95766d8c",
   "metadata": {},
   "outputs": [
    {
     "data": {
      "text/html": [
       "<div>\n",
       "<style scoped>\n",
       "    .dataframe tbody tr th:only-of-type {\n",
       "        vertical-align: middle;\n",
       "    }\n",
       "\n",
       "    .dataframe tbody tr th {\n",
       "        vertical-align: top;\n",
       "    }\n",
       "\n",
       "    .dataframe thead th {\n",
       "        text-align: right;\n",
       "    }\n",
       "</style>\n",
       "<table border=\"1\" class=\"dataframe\">\n",
       "  <thead>\n",
       "    <tr style=\"text-align: right;\">\n",
       "      <th></th>\n",
       "      <th>Idade</th>\n",
       "      <th>Peso</th>\n",
       "      <th>Horas de atividade</th>\n",
       "      <th>Batimentos cardiacos</th>\n",
       "    </tr>\n",
       "  </thead>\n",
       "  <tbody>\n",
       "    <tr>\n",
       "      <th>0</th>\n",
       "      <td>44.247295</td>\n",
       "      <td>53.591343</td>\n",
       "      <td>3.397836</td>\n",
       "      <td>82.307425</td>\n",
       "    </tr>\n",
       "    <tr>\n",
       "      <th>1</th>\n",
       "      <td>81.427930</td>\n",
       "      <td>172.569375</td>\n",
       "      <td>33.142344</td>\n",
       "      <td>179.045377</td>\n",
       "    </tr>\n",
       "    <tr>\n",
       "      <th>2</th>\n",
       "      <td>50.807130</td>\n",
       "      <td>74.582817</td>\n",
       "      <td>8.645704</td>\n",
       "      <td>103.522796</td>\n",
       "    </tr>\n",
       "    <tr>\n",
       "      <th>3</th>\n",
       "      <td>55.778712</td>\n",
       "      <td>90.491878</td>\n",
       "      <td>12.622969</td>\n",
       "      <td>114.239779</td>\n",
       "    </tr>\n",
       "    <tr>\n",
       "      <th>4</th>\n",
       "      <td>53.790400</td>\n",
       "      <td>84.129280</td>\n",
       "      <td>11.032320</td>\n",
       "      <td>107.184063</td>\n",
       "    </tr>\n",
       "  </tbody>\n",
       "</table>\n",
       "</div>"
      ],
      "text/plain": [
       "       Idade        Peso  Horas de atividade  Batimentos cardiacos\n",
       "0  44.247295   53.591343            3.397836             82.307425\n",
       "1  81.427930  172.569375           33.142344            179.045377\n",
       "2  50.807130   74.582817            8.645704            103.522796\n",
       "3  55.778712   90.491878           12.622969            114.239779\n",
       "4  53.790400   84.129280           11.032320            107.184063"
      ]
     },
     "execution_count": 2,
     "metadata": {},
     "output_type": "execute_result"
    }
   ],
   "source": [
    "df = pd.read_csv('https://gist.githubusercontent.com/davidneves11/d72e7f49ab01c856acc5d07be4b1a9dd/raw/37631e3a40da92e6261c00fffdf0fb9b869b35dd/batimentos%2520cardiacos.csv')\n",
    "df.head()"
   ]
  },
  {
   "cell_type": "code",
   "execution_count": 43,
   "id": "37e55efe",
   "metadata": {},
   "outputs": [
    {
     "data": {
      "text/html": [
       "<div>\n",
       "<style scoped>\n",
       "    .dataframe tbody tr th:only-of-type {\n",
       "        vertical-align: middle;\n",
       "    }\n",
       "\n",
       "    .dataframe tbody tr th {\n",
       "        vertical-align: top;\n",
       "    }\n",
       "\n",
       "    .dataframe thead th {\n",
       "        text-align: right;\n",
       "    }\n",
       "</style>\n",
       "<table border=\"1\" class=\"dataframe\">\n",
       "  <thead>\n",
       "    <tr style=\"text-align: right;\">\n",
       "      <th></th>\n",
       "      <th>Idade</th>\n",
       "      <th>Peso</th>\n",
       "      <th>Horas de atividade</th>\n",
       "      <th>Batimentos cardiacos</th>\n",
       "    </tr>\n",
       "  </thead>\n",
       "  <tbody>\n",
       "    <tr>\n",
       "      <th>count</th>\n",
       "      <td>1000.000000</td>\n",
       "      <td>1000.000000</td>\n",
       "      <td>1000.000000</td>\n",
       "      <td>1000.000000</td>\n",
       "    </tr>\n",
       "    <tr>\n",
       "      <th>mean</th>\n",
       "      <td>65.845210</td>\n",
       "      <td>122.704671</td>\n",
       "      <td>20.676168</td>\n",
       "      <td>138.168423</td>\n",
       "    </tr>\n",
       "    <tr>\n",
       "      <th>std</th>\n",
       "      <td>8.505102</td>\n",
       "      <td>27.216325</td>\n",
       "      <td>6.804081</td>\n",
       "      <td>21.521514</td>\n",
       "    </tr>\n",
       "    <tr>\n",
       "      <th>min</th>\n",
       "      <td>40.000000</td>\n",
       "      <td>40.000000</td>\n",
       "      <td>0.000000</td>\n",
       "      <td>70.000000</td>\n",
       "    </tr>\n",
       "    <tr>\n",
       "      <th>25%</th>\n",
       "      <td>60.219824</td>\n",
       "      <td>104.703436</td>\n",
       "      <td>16.175859</td>\n",
       "      <td>123.926952</td>\n",
       "    </tr>\n",
       "    <tr>\n",
       "      <th>50%</th>\n",
       "      <td>65.735216</td>\n",
       "      <td>122.352692</td>\n",
       "      <td>20.588173</td>\n",
       "      <td>137.747897</td>\n",
       "    </tr>\n",
       "    <tr>\n",
       "      <th>75%</th>\n",
       "      <td>71.462362</td>\n",
       "      <td>140.679557</td>\n",
       "      <td>25.169889</td>\n",
       "      <td>151.993406</td>\n",
       "    </tr>\n",
       "    <tr>\n",
       "      <th>max</th>\n",
       "      <td>90.000000</td>\n",
       "      <td>200.000000</td>\n",
       "      <td>40.000000</td>\n",
       "      <td>200.000000</td>\n",
       "    </tr>\n",
       "  </tbody>\n",
       "</table>\n",
       "</div>"
      ],
      "text/plain": [
       "             Idade         Peso  Horas de atividade  Batimentos cardiacos\n",
       "count  1000.000000  1000.000000         1000.000000           1000.000000\n",
       "mean     65.845210   122.704671           20.676168            138.168423\n",
       "std       8.505102    27.216325            6.804081             21.521514\n",
       "min      40.000000    40.000000            0.000000             70.000000\n",
       "25%      60.219824   104.703436           16.175859            123.926952\n",
       "50%      65.735216   122.352692           20.588173            137.747897\n",
       "75%      71.462362   140.679557           25.169889            151.993406\n",
       "max      90.000000   200.000000           40.000000            200.000000"
      ]
     },
     "execution_count": 43,
     "metadata": {},
     "output_type": "execute_result"
    }
   ],
   "source": [
    "# Medidas descritivas dos dados\n",
    "df.describe()"
   ]
  },
  {
   "cell_type": "code",
   "execution_count": 54,
   "id": "1aa76b32",
   "metadata": {},
   "outputs": [
    {
     "name": "stderr",
     "output_type": "stream",
     "text": [
      "C:\\Users\\gusta\\anaconda3\\lib\\site-packages\\seaborn\\distributions.py:2619: FutureWarning: `distplot` is a deprecated function and will be removed in a future version. Please adapt your code to use either `displot` (a figure-level function with similar flexibility) or `histplot` (an axes-level function for histograms).\n",
      "  warnings.warn(msg, FutureWarning)\n"
     ]
    },
    {
     "data": {
      "text/plain": [
       "<AxesSubplot:title={'center':'Distribuição de Frequências'}, xlabel='Batimentos cardiacos', ylabel='Batimentos cardiacos'>"
      ]
     },
     "execution_count": 54,
     "metadata": {},
     "output_type": "execute_result"
    },
    {
     "data": {
      "image/png": "[encoded data removed]",
      "text/plain": [
       "<Figure size 576x360 with 1 Axes>"
      ]
     },
     "metadata": {},
     "output_type": "display_data"
    }
   ],
   "source": [
    "# Distribuição da variável target: Batimentos cardíacos\n",
    "\n",
    "ax = sns.distplot(df['Batimentos cardiacos'])\n",
    "ax.figure.set_size_inches(8, 5)\n",
    "ax.set_title('Distribuição de Frequências', fontsize=20)\n",
    "ax.set_ylabel('Batimentos cardiacos', fontsize=16)\n",
    "ax"
   ]
  },
  {
   "cell_type": "code",
   "execution_count": 48,
   "id": "ce5e1d2b",
   "metadata": {},
   "outputs": [
    {
     "data": {
      "text/plain": [
       "<seaborn.axisgrid.PairGrid at 0x2480d5b1a90>"
      ]
     },
     "execution_count": 48,
     "metadata": {},
     "output_type": "execute_result"
    },
    {
     "data": {
      "image/png": "[encoded data removed]",
      "text/plain": [
       "<Figure size 540x180 with 3 Axes>"
      ]
     },
     "metadata": {},
     "output_type": "display_data"
    }
   ],
   "source": [
    "# Correlação entre as variáveis\n",
    "\n",
    "ax = sns.pairplot(df, y_vars='Batimentos cardiacos', x_vars=['Idade', 'Peso', 'Horas de atividade'], kind='reg')\n",
    "ax.fig.suptitle('Dispersão entre as Variáveis', fontsize=20, y=1.05)\n",
    "ax"
   ]
  },
  {
   "cell_type": "markdown",
   "id": "27781952",
   "metadata": {},
   "source": [
    "A distribuição da variável target e a sua correlação com as demais atividades é uma correlação positiva. Ou seja, os batimentos cardíacos aumentam, na medida que a Idade, o Peso e as Horas de atividade aumentam."
   ]
  },
  {
   "cell_type": "code",
   "execution_count": 55,
   "id": "b365414e",
   "metadata": {},
   "outputs": [],
   "source": [
    "# Definição dos conjuntos de treino e teste\n",
    "\n",
    "y = df['Batimentos cardiacos']\n",
    "X = df[['Idade', 'Peso', 'Horas de atividade']]"
   ]
  },
  {
   "cell_type": "code",
   "execution_count": 56,
   "id": "d98eedfb",
   "metadata": {},
   "outputs": [],
   "source": [
    "from sklearn.model_selection import train_test_split\n",
    "\n",
    "X_train, X_test, y_train, y_test = train_test_split(X, y, test_size=0.25, random_state=266)"
   ]
  },
  {
   "cell_type": "code",
   "execution_count": 57,
   "id": "fd04482a",
   "metadata": {},
   "outputs": [
    {
     "data": {
      "text/plain": [
       "(750, 3)"
      ]
     },
     "execution_count": 57,
     "metadata": {},
     "output_type": "execute_result"
    }
   ],
   "source": [
    "# Tamanho da base de treino\n",
    "\n",
    "X_train.shape"
   ]
  },
  {
   "cell_type": "code",
   "execution_count": 58,
   "id": "28510313",
   "metadata": {},
   "outputs": [
    {
     "data": {
      "text/plain": [
       "(250, 3)"
      ]
     },
     "execution_count": 58,
     "metadata": {},
     "output_type": "execute_result"
    }
   ],
   "source": [
    "#Tamanho da base de teste\n",
    "\n",
    "X_test.shape"
   ]
  },
  {
   "cell_type": "markdown",
   "id": "a95485e0",
   "metadata": {},
   "source": [
    "# Treinando o modelo"
   ]
  },
  {
   "cell_type": "code",
   "execution_count": 59,
   "id": "848b8411",
   "metadata": {},
   "outputs": [
    {
     "data": {
      "text/plain": [
       "LinearRegression()"
      ]
     },
     "execution_count": 59,
     "metadata": {},
     "output_type": "execute_result"
    }
   ],
   "source": [
    "from sklearn.linear_model import LinearRegression\n",
    "from sklearn import metrics\n",
    "\n",
    "modelo_1 = LinearRegression()\n",
    "modelo_1.fit(X_train, y_train)"
   ]
  },
  {
   "cell_type": "code",
   "execution_count": 60,
   "id": "f2aef321",
   "metadata": {},
   "outputs": [
    {
     "name": "stdout",
     "output_type": "stream",
     "text": [
      "R² = 0.99\n"
     ]
    }
   ],
   "source": [
    "# R da curva de treino\n",
    "\n",
    "print('R² = {}'.format(modelo_1.score(X_train, y_train).round(2)))"
   ]
  },
  {
   "cell_type": "code",
   "execution_count": 61,
   "id": "4e302514",
   "metadata": {
    "scrolled": true
   },
   "outputs": [
    {
     "name": "stdout",
     "output_type": "stream",
     "text": [
      "R² = 0.98\n"
     ]
    }
   ],
   "source": [
    "# R ajustado com as bases de teste\n",
    "\n",
    "y_previsto = modelo_1.predict(X_test)\n",
    "print('R² = %s' % metrics.r2_score(y_test, y_previsto).round(2))"
   ]
  },
  {
   "cell_type": "markdown",
   "id": "12b14b72",
   "metadata": {},
   "source": [
    "# Fazendo previsões pontuais"
   ]
  },
  {
   "cell_type": "code",
   "execution_count": 77,
   "id": "eba05d3a",
   "metadata": {},
   "outputs": [
    {
     "name": "stdout",
     "output_type": "stream",
     "text": [
      "         Idade        Peso  Horas de atividade\n",
      "575  62.865617  113.169976           18.292494\n"
     ]
    }
   ],
   "source": [
    "entrada = X_test[5:6]\n",
    "print(entrada)"
   ]
  },
  {
   "cell_type": "code",
   "execution_count": 78,
   "id": "2765258e",
   "metadata": {},
   "outputs": [
    {
     "name": "stdout",
     "output_type": "stream",
     "text": [
      "130.71 batimentos cardíacos\n"
     ]
    }
   ],
   "source": [
    "print('{0:.2f} batimentos cardíacos'.format(modelo_1.predict(entrada)[0]))"
   ]
  }
 ],
 "metadata": {
  "kernelspec": {
   "display_name": "Python 3 (ipykernel)",
   "language": "python",
   "name": "python3"
  },
  "language_info": {
   "codemirror_mode": {
    "name": "ipython",
    "version": 3
   },
   "file_extension": ".py",
   "mimetype": "text/x-python",
   "name": "python",
   "nbconvert_exporter": "python",
   "pygments_lexer": "ipython3",
   "version": "3.9.7"
  }
 },
 "nbformat": 4,
 "nbformat_minor": 5
}
